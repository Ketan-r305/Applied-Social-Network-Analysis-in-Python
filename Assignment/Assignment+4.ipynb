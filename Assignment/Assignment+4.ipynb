{
 "cells": [
  {
   "cell_type": "markdown",
   "metadata": {},
   "source": [
    "---\n",
    "\n",
    "_You are currently looking at **version 1.2** of this notebook. To download notebooks and datafiles, as well as get help on Jupyter notebooks in the Coursera platform, visit the [Jupyter Notebook FAQ](https://www.coursera.org/learn/python-social-network-analysis/resources/yPcBs) course resource._\n",
    "\n",
    "---"
   ]
  },
  {
   "cell_type": "markdown",
   "metadata": {},
   "source": [
    "# Assignment 4"
   ]
  },
  {
   "cell_type": "code",
   "execution_count": 1,
   "metadata": {
    "collapsed": true
   },
   "outputs": [],
   "source": [
    "import networkx as nx\n",
    "import pandas as pd\n",
    "import numpy as np\n",
    "import pickle"
   ]
  },
  {
   "cell_type": "markdown",
   "metadata": {},
   "source": [
    "---\n",
    "\n",
    "## Part 1 - Random Graph Identification\n",
    "\n",
    "For the first part of this assignment you will analyze randomly generated graphs and determine which algorithm created them."
   ]
  },
  {
   "cell_type": "code",
   "execution_count": 2,
   "metadata": {},
   "outputs": [
    {
     "data": {
      "text/plain": [
       "[<networkx.classes.graph.Graph at 0x7f5c142da860>,\n",
       " <networkx.classes.graph.Graph at 0x7f5c142da978>,\n",
       " <networkx.classes.graph.Graph at 0x7f5c142da9b0>,\n",
       " <networkx.classes.graph.Graph at 0x7f5c142da9e8>,\n",
       " <networkx.classes.graph.Graph at 0x7f5c142daa20>]"
      ]
     },
     "execution_count": 2,
     "metadata": {},
     "output_type": "execute_result"
    }
   ],
   "source": [
    "P1_Graphs = pickle.load(open('A4_graphs','rb'))\n",
    "P1_Graphs"
   ]
  },
  {
   "cell_type": "code",
   "execution_count": 5,
   "metadata": {
    "collapsed": true
   },
   "outputs": [],
   "source": [
    "def graph_identification():\n",
    "    \n",
    "    # Your Code Here\n",
    "    res = [(nx.average_clustering(i),nx.average_shortest_path_length(i)) for i in P1_Graphs]\n",
    "    res = ['PA','SW_L','SW_L','PA','SW_H']\n",
    "    return res # Your Answer Here ['PA','SW_S','SW_S','PA','SW_L']"
   ]
  },
  {
   "cell_type": "code",
   "execution_count": 6,
   "metadata": {},
   "outputs": [
    {
     "data": {
      "text/plain": [
       "['PA', 'SW_L', 'SW_L', 'PA', 'SW_H']"
      ]
     },
     "execution_count": 6,
     "metadata": {},
     "output_type": "execute_result"
    }
   ],
   "source": [
    "graph_identification()"
   ]
  },
  {
   "cell_type": "markdown",
   "metadata": {},
   "source": [
    "---\n",
    "\n",
    "## Part 2 - Company Emails\n",
    "\n",
    "For the second part of this assignment you will be workking with a company's email network where each node corresponds to a person at the company, and each edge indicates that at least one email has been sent between two people.\n",
    "\n",
    "The network also contains the node attributes `Department` and `ManagementSalary`.\n",
    "\n",
    "`Department` indicates the department in the company which the person belongs to, and `ManagementSalary` indicates whether that person is receiving a management position salary."
   ]
  },
  {
   "cell_type": "code",
   "execution_count": 7,
   "metadata": {},
   "outputs": [
    {
     "name": "stdout",
     "output_type": "stream",
     "text": [
      "Name: \n",
      "Type: Graph\n",
      "Number of nodes: 1005\n",
      "Number of edges: 16706\n",
      "Average degree:  33.2458\n"
     ]
    }
   ],
   "source": [
    "G = nx.read_gpickle('email_prediction.txt')\n",
    "\n",
    "print(nx.info(G))"
   ]
  },
  {
   "cell_type": "markdown",
   "metadata": {},
   "source": [
    "### Part 2A - Salary Prediction\n",
    "\n",
    "Using network `G`, identify the people in the network with missing values for the node attribute `ManagementSalary` and predict whether or not these individuals are receiving a management position salary.\n",
    "\n",
    "To accomplish this, you will need to create a matrix of node features using networkx, train a sklearn classifier on nodes that have `ManagementSalary` data, and predict a probability of the node receiving a management salary for nodes where `ManagementSalary` is missing.\n",
    "\n",
    "\n",
    "\n",
    "Your predictions will need to be given as the probability that the corresponding employee is receiving a management position salary.\n",
    "\n",
    "The evaluation metric for this assignment is the Area Under the ROC Curve (AUC).\n",
    "\n",
    "Your grade will be based on the AUC score computed for your classifier. A model which with an AUC of 0.88 or higher will receive full points, and with an AUC of 0.82 or higher will pass (get 80% of the full points).\n",
    "\n",
    "Using your trained classifier, return a series of length 252 with the data being the probability of receiving management salary, and the index being the node id.\n",
    "\n",
    "    Example:\n",
    "    \n",
    "        1       1.0\n",
    "        2       0.0\n",
    "        5       0.8\n",
    "        8       1.0\n",
    "            ...\n",
    "        996     0.7\n",
    "        1000    0.5\n",
    "        1001    0.0\n",
    "        Length: 252, dtype: float64"
   ]
  },
  {
   "cell_type": "code",
   "execution_count": 8,
   "metadata": {
    "collapsed": true
   },
   "outputs": [],
   "source": [
    "def salary_predictions():\n",
    "    \n",
    "    # Your Code Here\n",
    "    \n",
    "    from sklearn.preprocessing import MinMaxScaler\n",
    "    \n",
    "    \n",
    "    \n",
    "    df = pd.DataFrame(index= G.nodes())\n",
    "    df['Department'] = pd.Series(nx.get_node_attributes(G,'Department'))\n",
    "    df[\"ManagementSalary\"] = pd.Series(nx.get_node_attributes(G,'ManagementSalary'))\n",
    "    df['clustering'] = pd.Series(nx.clustering(G))\n",
    "    df['degree'] = pd.Series(G.degree())\n",
    "    df['degree_centrality'] = pd.Series(nx.degree_centrality(G))\n",
    "    df['closeness'] = pd.Series(nx.closeness_centrality(G, normalized=True))\n",
    "    df['betweeness'] = pd.Series(nx.betweenness_centrality(G, normalized=True))\n",
    "    df['pr'] = pd.Series(nx.pagerank(G))\n",
    "\n",
    "    df_test = df[(df.ManagementSalary.isnull() == True)]\n",
    "    df = df.dropna()\n",
    "    y = df.iloc[:,1]\n",
    "    X = df.drop('ManagementSalary',axis=1)\n",
    "    \n",
    "    scaler = MinMaxScaler()\n",
    "    X_scaled = scaler.fit_transform(X)\n",
    "    \n",
    "    df_test = df_test.dropna(axis = 1)\n",
    "    X_test = scaler.transform(df_test)\n",
    "    \n",
    "    from sklearn.ensemble import GradientBoostingClassifier\n",
    "    from sklearn.model_selection import GridSearchCV\n",
    "    from sklearn.metrics import roc_auc_score\n",
    "    \n",
    "    param_grid= {'max_depth':[2,3,4,5,6,7],'learning_rate':[0.001,0.01,0.1]}\n",
    "    \n",
    "    g=GridSearchCV(GradientBoostingClassifier(random_state = 0),param_grid=param_grid,cv= 5,scoring = 'roc_auc')\n",
    "    g.fit(X_scaled,y)\n",
    "    z = g.predict_proba(X_test)[:,1]\n",
    "    \n",
    "    res = pd.Series(z,index=df_test.index)\n",
    "    \n",
    "    return res #Your Answer Here"
   ]
  },
  {
   "cell_type": "code",
   "execution_count": 9,
   "metadata": {},
   "outputs": [
    {
     "data": {
      "text/plain": [
       "1       0.013799\n",
       "2       0.987366\n",
       "5       0.981083\n",
       "8       0.168930\n",
       "14      0.063598\n",
       "18      0.026365\n",
       "27      0.057571\n",
       "30      0.704002\n",
       "31      0.180140\n",
       "34      0.020812\n",
       "37      0.021655\n",
       "40      0.026060\n",
       "45      0.021841\n",
       "54      0.281180\n",
       "55      0.610160\n",
       "60      0.123533\n",
       "62      0.981083\n",
       "65      0.982742\n",
       "77      0.019837\n",
       "79      0.024754\n",
       "97      0.016149\n",
       "101     0.002005\n",
       "103     0.678357\n",
       "108     0.041873\n",
       "113     0.134702\n",
       "122     0.001184\n",
       "141     0.455744\n",
       "142     0.981083\n",
       "144     0.019835\n",
       "145     0.701481\n",
       "          ...   \n",
       "913     0.015866\n",
       "914     0.015084\n",
       "915     0.001059\n",
       "918     0.039544\n",
       "923     0.045223\n",
       "926     0.043846\n",
       "931     0.012620\n",
       "934     0.001090\n",
       "939     0.000927\n",
       "944     0.001090\n",
       "945     0.045223\n",
       "947     0.045062\n",
       "950     0.041052\n",
       "951     0.012478\n",
       "953     0.001959\n",
       "959     0.000927\n",
       "962     0.001751\n",
       "963     0.118436\n",
       "968     0.054206\n",
       "969     0.054206\n",
       "974     0.027559\n",
       "984     0.001090\n",
       "987     0.034203\n",
       "989     0.045062\n",
       "991     0.069941\n",
       "992     0.000927\n",
       "994     0.001090\n",
       "996     0.001059\n",
       "1000    0.010296\n",
       "1001    0.034203\n",
       "Length: 252, dtype: float64"
      ]
     },
     "execution_count": 9,
     "metadata": {},
     "output_type": "execute_result"
    }
   ],
   "source": [
    "salary_predictions()"
   ]
  },
  {
   "cell_type": "markdown",
   "metadata": {},
   "source": [
    "### Part 2B - New Connections Prediction\n",
    "\n",
    "For the last part of this assignment, you will predict future connections between employees of the network. The future connections information has been loaded into the variable `future_connections`. The index is a tuple indicating a pair of nodes that currently do not have a connection, and the `Future Connection` column indicates if an edge between those two nodes will exist in the future, where a value of 1.0 indicates a future connection."
   ]
  },
  {
   "cell_type": "code",
   "execution_count": 15,
   "metadata": {
    "scrolled": true
   },
   "outputs": [
    {
     "data": {
      "text/html": [
       "<div>\n",
       "<style>\n",
       "    .dataframe thead tr:only-child th {\n",
       "        text-align: right;\n",
       "    }\n",
       "\n",
       "    .dataframe thead th {\n",
       "        text-align: left;\n",
       "    }\n",
       "\n",
       "    .dataframe tbody tr th {\n",
       "        vertical-align: top;\n",
       "    }\n",
       "</style>\n",
       "<table border=\"1\" class=\"dataframe\">\n",
       "  <thead>\n",
       "    <tr style=\"text-align: right;\">\n",
       "      <th></th>\n",
       "      <th>Future Connection</th>\n",
       "    </tr>\n",
       "  </thead>\n",
       "  <tbody>\n",
       "    <tr>\n",
       "      <th>(6, 840)</th>\n",
       "      <td>0.0</td>\n",
       "    </tr>\n",
       "    <tr>\n",
       "      <th>(4, 197)</th>\n",
       "      <td>0.0</td>\n",
       "    </tr>\n",
       "    <tr>\n",
       "      <th>(620, 979)</th>\n",
       "      <td>0.0</td>\n",
       "    </tr>\n",
       "    <tr>\n",
       "      <th>(519, 872)</th>\n",
       "      <td>0.0</td>\n",
       "    </tr>\n",
       "    <tr>\n",
       "      <th>(382, 423)</th>\n",
       "      <td>0.0</td>\n",
       "    </tr>\n",
       "    <tr>\n",
       "      <th>(97, 226)</th>\n",
       "      <td>1.0</td>\n",
       "    </tr>\n",
       "    <tr>\n",
       "      <th>(349, 905)</th>\n",
       "      <td>0.0</td>\n",
       "    </tr>\n",
       "    <tr>\n",
       "      <th>(429, 860)</th>\n",
       "      <td>0.0</td>\n",
       "    </tr>\n",
       "    <tr>\n",
       "      <th>(309, 989)</th>\n",
       "      <td>0.0</td>\n",
       "    </tr>\n",
       "    <tr>\n",
       "      <th>(468, 880)</th>\n",
       "      <td>0.0</td>\n",
       "    </tr>\n",
       "  </tbody>\n",
       "</table>\n",
       "</div>"
      ],
      "text/plain": [
       "            Future Connection\n",
       "(6, 840)                  0.0\n",
       "(4, 197)                  0.0\n",
       "(620, 979)                0.0\n",
       "(519, 872)                0.0\n",
       "(382, 423)                0.0\n",
       "(97, 226)                 1.0\n",
       "(349, 905)                0.0\n",
       "(429, 860)                0.0\n",
       "(309, 989)                0.0\n",
       "(468, 880)                0.0"
      ]
     },
     "execution_count": 15,
     "metadata": {},
     "output_type": "execute_result"
    }
   ],
   "source": [
    "future_connections = pd.read_csv('Future_Connections.csv', index_col=0, converters={0: eval})\n",
    "future_connections.head(10)"
   ]
  },
  {
   "cell_type": "markdown",
   "metadata": {},
   "source": [
    "Using network `G` and `future_connections`, identify the edges in `future_connections` with missing values and predict whether or not these edges will have a future connection.\n",
    "\n",
    "To accomplish this, you will need to create a matrix of features for the edges found in `future_connections` using networkx, train a sklearn classifier on those edges in `future_connections` that have `Future Connection` data, and predict a probability of the edge being a future connection for those edges in `future_connections` where `Future Connection` is missing.\n",
    "\n",
    "\n",
    "\n",
    "Your predictions will need to be given as the probability of the corresponding edge being a future connection.\n",
    "\n",
    "The evaluation metric for this assignment is the Area Under the ROC Curve (AUC).\n",
    "\n",
    "Your grade will be based on the AUC score computed for your classifier. A model which with an AUC of 0.88 or higher will receive full points, and with an AUC of 0.82 or higher will pass (get 80% of the full points).\n",
    "\n",
    "Using your trained classifier, return a series of length 122112 with the data being the probability of the edge being a future connection, and the index being the edge as represented by a tuple of nodes.\n",
    "\n",
    "    Example:\n",
    "    \n",
    "        (107, 348)    0.35\n",
    "        (542, 751)    0.40\n",
    "        (20, 426)     0.55\n",
    "        (50, 989)     0.35\n",
    "                  ...\n",
    "        (939, 940)    0.15\n",
    "        (555, 905)    0.35\n",
    "        (75, 101)     0.65\n",
    "        Length: 122112, dtype: float64"
   ]
  },
  {
   "cell_type": "code",
   "execution_count": 26,
   "metadata": {
    "collapsed": true
   },
   "outputs": [],
   "source": [
    "from sklearn.neural_network import MLPClassifier\n",
    "from sklearn.preprocessing import MinMaxScaler\n",
    "def new_connections_predictions():\n",
    "    for node in G.nodes():\n",
    "        G.node[node]['community'] = G.node[node]['Department']\n",
    "    preferential_attachment = list(nx.preferential_attachment(G))\n",
    "    df = pd.DataFrame(index=[(x[0], x[1]) for x in preferential_attachment])\n",
    "    df['preferential_attachment'] = [x[2] for x in preferential_attachment]\n",
    "    cn_soundarajan_hopcroft = list(nx.cn_soundarajan_hopcroft(G))\n",
    "    df_cn_soundarajan_hopcroft = pd.DataFrame(index=[(x[0], x[1]) for x in cn_soundarajan_hopcroft])\n",
    "    df_cn_soundarajan_hopcroft['cn_soundarajan_hopcroft'] = [x[2] for x in cn_soundarajan_hopcroft]\n",
    "    df = df.join(df_cn_soundarajan_hopcroft,how='outer')\n",
    "    df['cn_soundarajan_hopcroft'] = df['cn_soundarajan_hopcroft'].fillna(value=0)\n",
    "    df['resource_allocation_index'] = [x[2] for x in list(nx.resource_allocation_index(G))]\n",
    "    df['jaccard_coefficient'] = [x[2] for x in list(nx.jaccard_coefficient(G))]\n",
    "    df = future_connections.join(df,how='outer')\n",
    "    df_train = df[~pd.isnull(df['Future Connection'])]\n",
    "    df_test = df[pd.isnull(df['Future Connection'])]\n",
    "    features = ['cn_soundarajan_hopcroft', 'preferential_attachment', 'resource_allocation_index', 'jaccard_coefficient']\n",
    "    X_train = df_train[features]\n",
    "    Y_train = df_train['Future Connection']\n",
    "    X_test = df_test[features]\n",
    "    scaler = MinMaxScaler()\n",
    "    X_train_scaled = scaler.fit_transform(X_train)\n",
    "    X_test_scaled = scaler.transform(X_test)\n",
    "    clf = MLPClassifier(hidden_layer_sizes = [10, 5], alpha = 5,\n",
    "                       random_state = 0, solver='lbfgs', verbose=0)\n",
    "    clf.fit(X_train_scaled, Y_train)\n",
    "    test_proba = clf.predict_proba(X_test_scaled)[:, 1]\n",
    "    predictions = pd.Series(test_proba,X_test.index)\n",
    "    target = future_connections[pd.isnull(future_connections['Future Connection'])]\n",
    "    target['prob'] = [predictions[x] for x in target.index]\n",
    "    return target['prob']"
   ]
  },
  {
   "cell_type": "code",
   "execution_count": 27,
   "metadata": {},
   "outputs": [
    {
     "name": "stderr",
     "output_type": "stream",
     "text": [
      "/opt/conda/lib/python3.6/site-packages/ipykernel_launcher.py:32: SettingWithCopyWarning: \n",
      "A value is trying to be set on a copy of a slice from a DataFrame.\n",
      "Try using .loc[row_indexer,col_indexer] = value instead\n",
      "\n",
      "See the caveats in the documentation: http://pandas.pydata.org/pandas-docs/stable/indexing.html#indexing-view-versus-copy\n"
     ]
    },
    {
     "data": {
      "text/plain": [
       "(107, 348)    0.030798\n",
       "(542, 751)    0.012661\n",
       "(20, 426)     0.590189\n",
       "(50, 989)     0.012774\n",
       "(942, 986)    0.012896\n",
       "(324, 857)    0.012758\n",
       "(13, 710)     0.157992\n",
       "(19, 271)     0.107565\n",
       "(319, 878)    0.012813\n",
       "(659, 707)    0.012673\n",
       "(49, 843)     0.012848\n",
       "(208, 893)    0.012700\n",
       "(377, 469)    0.008606\n",
       "(405, 999)    0.021212\n",
       "(129, 740)    0.018759\n",
       "(292, 618)    0.023529\n",
       "(239, 689)    0.012821\n",
       "(359, 373)    0.010155\n",
       "(53, 523)     0.076263\n",
       "(276, 984)    0.012843\n",
       "(202, 997)    0.012866\n",
       "(604, 619)    0.047400\n",
       "(270, 911)    0.012819\n",
       "(261, 481)    0.063398\n",
       "(200, 450)    0.997548\n",
       "(213, 634)    0.012626\n",
       "(644, 735)    0.041949\n",
       "(346, 553)    0.012347\n",
       "(521, 738)    0.011817\n",
       "(422, 953)    0.019543\n",
       "                ...   \n",
       "(672, 848)    0.012819\n",
       "(28, 127)     0.977766\n",
       "(202, 661)    0.012300\n",
       "(54, 195)     0.997570\n",
       "(295, 864)    0.012741\n",
       "(814, 936)    0.012643\n",
       "(839, 874)    0.012896\n",
       "(139, 843)    0.012750\n",
       "(461, 544)    0.011453\n",
       "(68, 487)     0.011390\n",
       "(622, 932)    0.012713\n",
       "(504, 936)    0.017593\n",
       "(479, 528)    0.012766\n",
       "(186, 670)    0.012786\n",
       "(90, 395)     0.122002\n",
       "(329, 521)    0.026998\n",
       "(127, 218)    0.182972\n",
       "(463, 993)    0.012902\n",
       "(123, 142)    0.819005\n",
       "(764, 885)    0.012819\n",
       "(144, 824)    0.012878\n",
       "(742, 985)    0.012898\n",
       "(506, 684)    0.012661\n",
       "(505, 916)    0.012882\n",
       "(149, 214)    0.997546\n",
       "(165, 923)    0.011570\n",
       "(673, 755)    0.012902\n",
       "(939, 940)    0.012896\n",
       "(555, 905)    0.012595\n",
       "(75, 101)     0.019629\n",
       "Name: prob, Length: 122112, dtype: float64"
      ]
     },
     "execution_count": 27,
     "metadata": {},
     "output_type": "execute_result"
    }
   ],
   "source": [
    "new_connections_predictions()"
   ]
  },
  {
   "cell_type": "code",
   "execution_count": null,
   "metadata": {
    "collapsed": true
   },
   "outputs": [],
   "source": []
  }
 ],
 "metadata": {
  "coursera": {
   "course_slug": "python-social-network-analysis",
   "graded_item_id": "BGNwe",
   "launcher_item_id": "rMoj0",
   "part_id": "E2zRG"
  },
  "kernelspec": {
   "display_name": "Python 3",
   "language": "python",
   "name": "python3"
  },
  "language_info": {
   "codemirror_mode": {
    "name": "ipython",
    "version": 3
   },
   "file_extension": ".py",
   "mimetype": "text/x-python",
   "name": "python",
   "nbconvert_exporter": "python",
   "pygments_lexer": "ipython3",
   "version": "3.6.2"
  }
 },
 "nbformat": 4,
 "nbformat_minor": 2
}
